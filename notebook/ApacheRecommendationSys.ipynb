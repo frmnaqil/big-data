{
 "cells": [
  {
   "cell_type": "code",
   "execution_count": 1,
   "metadata": {},
   "outputs": [],
   "source": [
    "import findspark\n",
    "findspark.init()"
   ]
  },
  {
   "cell_type": "code",
   "execution_count": 2,
   "metadata": {},
   "outputs": [
    {
     "name": "stdout",
     "output_type": "stream",
     "text": [
      "<pyspark.sql.session.SparkSession object at 0x000001BF95576CF8>\n"
     ]
    }
   ],
   "source": [
    "from pyspark.sql import SparkSession\n",
    "\n",
    "# Create Spark Session\n",
    "spark = SparkSession \\\n",
    "    .builder \\\n",
    "    .appName(\"Python Spark Recommendation System\") \\\n",
    "    .getOrCreate()\n",
    "\n",
    "print(spark)"
   ]
  },
  {
   "cell_type": "code",
   "execution_count": 3,
   "metadata": {},
   "outputs": [],
   "source": [
    "from pyspark.ml.evaluation import RegressionEvaluator\n",
    "from pyspark.ml.recommendation import ALS\n",
    "from pyspark.sql import Row"
   ]
  },
  {
   "cell_type": "markdown",
   "metadata": {},
   "source": [
    "## Dataset"
   ]
  },
  {
   "cell_type": "markdown",
   "metadata": {},
   "source": [
    "*Sumber [trustlet.org](http://www.trustlet.org/downloaded_epinions.html)*  \n",
    "Dataset dibuat berdasarkan situs ulasan konsumen Epinions.com pada November hingga Desember 2003\n",
    "Dataset terdiri atas :\n",
    " * 49290 pengguna, yang memberi rating pada\n",
    " * 139738 barang berbeda paling tidak sekali  \n",
    " \n",
    "Setiap baris memiliki format :  \n",
    "`user_id` `item_id` `rating`  \n",
    "Contohnya :\n",
    "`23` `387` `5`\n",
    "\n",
    "Rentang nilai tiap kolom :\n",
    " * user_id [1,49290]\n",
    " * item_id [1,139738]\n",
    " * rating [1,5]"
   ]
  },
  {
   "cell_type": "markdown",
   "metadata": {},
   "source": [
    "## Preprocess"
   ]
  },
  {
   "cell_type": "markdown",
   "metadata": {},
   "source": [
    "### Load Data"
   ]
  },
  {
   "cell_type": "code",
   "execution_count": 4,
   "metadata": {},
   "outputs": [
    {
     "name": "stdout",
     "output_type": "stream",
     "text": [
      "[Row(value='1 100 4'), Row(value='1 101 5'), Row(value='1 102 3'), Row(value='1 10 3'), Row(value='1 103 5')]\n"
     ]
    }
   ],
   "source": [
    "# https://spark.apache.org/docs/2.2.0/ml-collaborative-filtering.html\n",
    "# https://spark.apache.org/docs/2.2.0/api/python/pyspark.ml.html#pyspark.ml.recommendation.ALS\n",
    "\n",
    "lines = spark.read.text(\"ratings_data.txt\").rdd\n",
    "print(lines.take(5))"
   ]
  },
  {
   "cell_type": "code",
   "execution_count": 13,
   "metadata": {},
   "outputs": [],
   "source": [
    "parts = lines.map(lambda row: row.value.split(\" \"))"
   ]
  },
  {
   "cell_type": "code",
   "execution_count": 14,
   "metadata": {},
   "outputs": [],
   "source": [
    "ratingsRDD = parts.map(lambda p: Row(user_id=int(p[0]), item_id=int(p[1]),\n",
    "                                     rating=float(p[2])))"
   ]
  },
  {
   "cell_type": "code",
   "execution_count": 15,
   "metadata": {},
   "outputs": [
    {
     "name": "stdout",
     "output_type": "stream",
     "text": [
      "[Row(item_id=100, rating=4.0, user_id=1), Row(item_id=101, rating=5.0, user_id=1), Row(item_id=102, rating=3.0, user_id=1), Row(item_id=10, rating=3.0, user_id=1), Row(item_id=103, rating=5.0, user_id=1)]\n"
     ]
    }
   ],
   "source": [
    "print(ratingsRDD.take(5))"
   ]
  },
  {
   "cell_type": "code",
   "execution_count": 16,
   "metadata": {},
   "outputs": [
    {
     "name": "stdout",
     "output_type": "stream",
     "text": [
      "+-------+------+-------+\n",
      "|item_id|rating|user_id|\n",
      "+-------+------+-------+\n",
      "|    100|   4.0|      1|\n",
      "|    101|   5.0|      1|\n",
      "|    102|   3.0|      1|\n",
      "|     10|   3.0|      1|\n",
      "|    103|   5.0|      1|\n",
      "|    104|   2.0|      1|\n",
      "|    105|   5.0|      1|\n",
      "|    106|   5.0|      1|\n",
      "|    107|   5.0|      1|\n",
      "|    108|   5.0|      1|\n",
      "|    109|   3.0|      1|\n",
      "|    110|   4.0|      1|\n",
      "|    111|   5.0|      1|\n",
      "|    112|   4.0|      1|\n",
      "|    113|   5.0|      1|\n",
      "|     11|   4.0|      1|\n",
      "|    114|   5.0|      1|\n",
      "|    115|   5.0|      1|\n",
      "|    116|   5.0|      1|\n",
      "|    117|   5.0|      1|\n",
      "+-------+------+-------+\n",
      "only showing top 20 rows\n",
      "\n"
     ]
    }
   ],
   "source": [
    "ratings = spark.createDataFrame(ratingsRDD)\n",
    "ratings.show()"
   ]
  },
  {
   "cell_type": "markdown",
   "metadata": {},
   "source": [
    "## Create Model"
   ]
  },
  {
   "cell_type": "code",
   "execution_count": 18,
   "metadata": {},
   "outputs": [],
   "source": [
    "(training, test) = ratings.randomSplit([0.8, 0.2])"
   ]
  },
  {
   "cell_type": "code",
   "execution_count": 19,
   "metadata": {},
   "outputs": [],
   "source": [
    "# Build the recommendation model using ALS on the training data\n",
    "# Note we set cold start strategy to 'drop' to ensure we don't get NaN evaluation metrics\n",
    "als = ALS(maxIter=5, regParam=0.01, userCol=\"user_id\", itemCol=\"item_id\", ratingCol=\"rating\",\n",
    "          coldStartStrategy=\"drop\")\n",
    "model = als.fit(training)"
   ]
  },
  {
   "cell_type": "code",
   "execution_count": 20,
   "metadata": {},
   "outputs": [
    {
     "name": "stdout",
     "output_type": "stream",
     "text": [
      "Root-mean-square error = 3.0742044368388055\n"
     ]
    }
   ],
   "source": [
    "# Evaluate the model by computing the RMSE on the test data\n",
    "predictions = model.transform(test)\n",
    "evaluator = RegressionEvaluator(metricName=\"rmse\", labelCol=\"rating\",\n",
    "                                predictionCol=\"prediction\")\n",
    "rmse = evaluator.evaluate(predictions)\n",
    "print(\"Root-mean-square error = \" + str(rmse))"
   ]
  },
  {
   "cell_type": "code",
   "execution_count": 21,
   "metadata": {},
   "outputs": [],
   "source": [
    "# Generate top 10 movie recommendations for each user\n",
    "userRecs = model.recommendForAllUsers(10)\n",
    "# Generate top 10 user recommendations for each movie\n",
    "movieRecs = model.recommendForAllItems(10)"
   ]
  },
  {
   "cell_type": "code",
   "execution_count": 22,
   "metadata": {},
   "outputs": [
    {
     "name": "stdout",
     "output_type": "stream",
     "text": [
      "+-------+--------------------+\n",
      "|user_id|     recommendations|\n",
      "+-------+--------------------+\n",
      "|    148|[[42662, 14.91667...|\n",
      "|    463|[[12073, 8.953663...|\n",
      "|    471|[[9241, 9.648809]...|\n",
      "|    496|[[22262, 9.649987...|\n",
      "|    833|[[60729, 9.68524]...|\n",
      "|   1088|[[42662, 11.28091...|\n",
      "|   1238|[[4246, 12.01042]...|\n",
      "|   1342|[[20836, 5.806043...|\n",
      "|   1580|[[4253, 23.45259]...|\n",
      "|   1591|[[36067, 9.603536...|\n",
      "|   1645|[[39664, 16.62483...|\n",
      "|   1829|[[39664, 12.27674...|\n",
      "|   2122|[[20806, 22.45664...|\n",
      "|   2142|[[3320, 12.47198]...|\n",
      "|   2659|[[105443, 11.2944...|\n",
      "|   2866|[[5491, 15.770605...|\n",
      "|   3175|[[39668, 9.401659...|\n",
      "|   3749|[[7379, 10.86928]...|\n",
      "|   3794|[[38281, 13.77242...|\n",
      "|   3918|[[65144, 14.88890...|\n",
      "+-------+--------------------+\n",
      "only showing top 20 rows\n",
      "\n"
     ]
    }
   ],
   "source": [
    "userRecs.show()"
   ]
  },
  {
   "cell_type": "code",
   "execution_count": 23,
   "metadata": {},
   "outputs": [
    {
     "name": "stdout",
     "output_type": "stream",
     "text": [
      "+-------+--------------------+\n",
      "|item_id|     recommendations|\n",
      "+-------+--------------------+\n",
      "|    148|[[46310, 4.373580...|\n",
      "|    471|[[24223, 22.21638...|\n",
      "|    496|[[12579, 47.66844...|\n",
      "|    833|[[14689, 19.55903...|\n",
      "|   1088|[[18765, 25.68565...|\n",
      "|   1238|[[4764, 18.489847...|\n",
      "|   1342|[[27955, 14.26324...|\n",
      "|   1580|[[14884, 18.26739...|\n",
      "|   1645|[[18262, 23.64232...|\n",
      "|   1829|[[4752, 37.127506...|\n",
      "|   1959|[[32172, 18.63920...|\n",
      "|   2122|[[4764, 30.124872...|\n",
      "|   2142|[[4646, 12.202996...|\n",
      "|   2366|[[11906, 18.64879...|\n",
      "|   2659|[[6526, 12.534604...|\n",
      "|   2866|[[18076, 17.5351]...|\n",
      "|   3175|[[10840, 9.773432...|\n",
      "|   3794|[[6487, 25.394901...|\n",
      "|   3918|[[29249, 21.14554...|\n",
      "|   3997|[[9706, 13.552515...|\n",
      "+-------+--------------------+\n",
      "only showing top 20 rows\n",
      "\n"
     ]
    }
   ],
   "source": [
    "movieRecs.show()"
   ]
  }
 ],
 "metadata": {
  "kernelspec": {
   "display_name": "Python 3",
   "language": "python",
   "name": "python3"
  },
  "language_info": {
   "codemirror_mode": {
    "name": "ipython",
    "version": 3
   },
   "file_extension": ".py",
   "mimetype": "text/x-python",
   "name": "python",
   "nbconvert_exporter": "python",
   "pygments_lexer": "ipython3",
   "version": "3.6.7"
  }
 },
 "nbformat": 4,
 "nbformat_minor": 2
}
