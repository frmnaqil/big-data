{
 "cells": [
  {
   "cell_type": "markdown",
   "metadata": {},
   "source": [
    "## Spark Initialization"
   ]
  },
  {
   "cell_type": "code",
   "execution_count": 1,
   "metadata": {},
   "outputs": [],
   "source": [
    "# Import findspark to read SPARK_HOME and HADOOP_HOME\n",
    "import findspark\n",
    "findspark.init()"
   ]
  },
  {
   "cell_type": "code",
   "execution_count": 2,
   "metadata": {},
   "outputs": [],
   "source": [
    "# Import required library\n",
    "from pyspark.sql import SparkSession\n",
    "\n",
    "# Create Spark Session\n",
    "spark = SparkSession \\\n",
    "    .builder \\\n",
    "    .appName(\"Python Spark SQL basic example\") \\\n",
    "    .getOrCreate()"
   ]
  },
  {
   "cell_type": "code",
   "execution_count": 3,
   "metadata": {},
   "outputs": [
    {
     "name": "stdout",
     "output_type": "stream",
     "text": [
      "<pyspark.sql.session.SparkSession object at 0x0000022BED843BE0>\n"
     ]
    }
   ],
   "source": [
    "# Print Spark object ID\n",
    "print(spark)"
   ]
  },
  {
   "cell_type": "markdown",
   "metadata": {},
   "source": [
    "## Loading Data using Spark"
   ]
  },
  {
   "cell_type": "code",
   "execution_count": 4,
   "metadata": {},
   "outputs": [],
   "source": [
    "df = spark.read.csv(\"data.csv\", header=True, inferSchema=True)"
   ]
  },
  {
   "cell_type": "code",
   "execution_count": 5,
   "metadata": {},
   "outputs": [
    {
     "name": "stdout",
     "output_type": "stream",
     "text": [
      "+-------+----+-----+----+---+----+----------+------+-------------------+-------------------+------------------+-----------+-------+---------------+--------------------+------------------+------------------+----------------+-------------+--------------------+------------------+------------------+--------------+\n",
      "|trip_id|year|month|week|day|hour|  usertype|gender|          starttime|           stoptime|      tripduration|temperature| events|from_station_id|   from_station_name|    latitude_start|   longitude_start|dpcapacity_start|to_station_id|     to_station_name|      latitude_end|     longitude_end|dpcapacity_end|\n",
      "+-------+----+-----+----+---+----+----------+------+-------------------+-------------------+------------------+-----------+-------+---------------+--------------------+------------------+------------------+----------------+-------------+--------------------+------------------+------------------+--------------+\n",
      "|2355134|2014|    6|  27|  0|  23|Subscriber|  Male|2014-06-30 23:57:00|2014-07-01 00:07:00|10.066666666666666|       68.0|tstorms|            131|Lincoln Ave & Bel...|         41.939365|        -87.668385|            15.0|          303|Broadway & Cornel...|         41.945512|-87.64598000000001|          15.0|\n",
      "|2355133|2014|    6|  27|  0|  23|Subscriber|  Male|2014-06-30 23:56:00|2014-07-01 00:00:00| 4.383333333333334|       68.0|tstorms|            282|Halsted St & Maxw...|          41.86458|         -87.64693|            15.0|           22|  May St & Taylor St|        41.8694821|       -87.6554864|          15.0|\n",
      "|2355130|2014|    6|  27|  0|  23|Subscriber|  Male|2014-06-30 23:33:00|2014-06-30 23:35:00|               2.1|       68.0|tstorms|            327|Sheffield Ave & W...|         41.921687|-87.65371400000001|            19.0|          225|Halsted St & Dick...|         41.919936|         -87.64883|          15.0|\n",
      "|2355129|2014|    6|  27|  0|  23|Subscriber|Female|2014-06-30 23:26:00|2014-07-01 00:24:00|58.016666666666666|       68.0|tstorms|            134|Peoria St & Jacks...|         41.877749|        -87.649633|            19.0|          194|State St & Wacker Dr|         41.887155|         -87.62775|          11.0|\n",
      "|2355128|2014|    6|  27|  0|  23|Subscriber|Female|2014-06-30 23:16:00|2014-06-30 23:26:00|10.633333333333333|       68.0|tstorms|            320|Loomis St & Lexin...|         41.872187|        -87.661501|            15.0|          134|Peoria St & Jacks...|         41.877749|        -87.649633|          19.0|\n",
      "|2355127|2014|    6|  27|  0|  23|Subscriber|  Male|2014-06-30 23:11:00|2014-06-30 23:17:00|               5.6|       68.0|tstorms|            332|Halsted St & Dive...|         41.933341|        -87.648747|            15.0|          319|Greenview Ave & D...|         41.932595|        -87.665939|          15.0|\n",
      "|2355126|2014|    6|  27|  0|  23|Subscriber|  Male|2014-06-30 23:08:00|2014-06-30 23:13:00| 5.066666666666666|       68.0|tstorms|            174|Canal St & Madiso...|41.882090999999996|        -87.639833|            23.0|           44|State St & Randol...|41.884730200599996|    -87.6277335692|          27.0|\n",
      "|2355125|2014|    6|  27|  0|  23|Subscriber|  Male|2014-06-30 23:07:00|2014-06-30 23:16:00|              8.75|       68.0|tstorms|            199|Wabash Ave & Gran...|41.891738000000004|        -87.626937|            15.0|           24|Fairbanks Ct & Gr...|          41.89186|         -87.62062|          15.0|\n",
      "|2355123|2014|    6|  27|  0|  23|Subscriber|  Male|2014-06-30 23:06:00|2014-06-30 23:09:00| 2.783333333333333|       68.0|tstorms|            238|Ravenswood Ave & ...|         41.961626|-87.67410100000001|            15.0|          316|Damen Ave & Sunny...|          41.96325|-87.67925799999999|          19.0|\n",
      "|2355116|2014|    6|  27|  0|  22|Subscriber|  Male|2014-06-30 22:46:00|2014-06-30 22:51:00| 4.833333333333333|       68.0|tstorms|            169|Canal St & Harris...|         41.874337|        -87.639566|            15.0|           91|Clinton St & Wash...|41.883379999999995|-87.64116999999999|          31.0|\n",
      "|2355111|2014|    6|  27|  0|  22|Subscriber|  Male|2014-06-30 22:22:00|2014-06-30 22:27:00| 5.466666666666667|       68.0|tstorms|            100|Orleans St & Merc...|         41.888243|         -87.63639|            23.0|          192| Canal St & Adams St|         41.878948|         -87.63975|          39.0|\n",
      "|2355110|2014|    6|  27|  0|  22|Subscriber|Female|2014-06-30 22:17:00|2014-06-30 22:22:00| 5.483333333333333|       68.0|tstorms|            267|Lake Park Ave & 4...|         41.809443|        -87.591875|            15.0|          322|Kimbark Ave & 53r...|         41.799568|        -87.594747|          15.0|\n",
      "|2355106|2014|    6|  27|  0|  22|Subscriber|  Male|2014-06-30 22:14:00|2014-06-30 22:17:00| 2.716666666666667|       68.0|tstorms|             50|Clark St & Congre...|     41.8759326655|-87.63058453549999|            27.0|           49|Dearborn St & Mon...|      41.881319815|    -87.6295209193|          27.0|\n",
      "|2355100|2014|    6|  27|  0|  22|Subscriber|Female|2014-06-30 22:04:00|2014-06-30 22:08:00|3.7666666666666666|       68.0|tstorms|            210|Ashland Ave & Div...|         41.903448|        -87.669313|            19.0|          350|Ashland Ave & Chi...|41.895965999999994|-87.66774699999999|          15.0|\n",
      "|2355098|2014|    6|  27|  0|  22|Subscriber|Female|2014-06-30 22:04:00|2014-06-30 22:24:00|20.483333333333334|       68.0|tstorms|            332|Halsted St & Dive...|         41.933341|        -87.648747|            15.0|          350|Ashland Ave & Chi...|41.895965999999994|-87.66774699999999|          15.0|\n",
      "|2355097|2014|    6|  27|  0|  22|Subscriber|  Male|2014-06-30 22:03:00|2014-06-30 22:10:00| 6.916666666666667|       68.0|tstorms|             80|Aberdeen St & Mad...|         41.881487|        -87.654752|            19.0|           91|Clinton St & Wash...|41.883379999999995|-87.64116999999999|          31.0|\n",
      "|2355096|2014|    6|  27|  0|  22|Subscriber|  Male|2014-06-30 22:02:00|2014-06-30 22:13:00|11.233333333333333|       68.0|tstorms|             31|Franklin St & Chi...|       41.89680204|      -87.63563839|            23.0|          287|Franklin St & Arc...|         41.881469|        -87.635177|          27.0|\n",
      "|2355095|2014|    6|  27|  0|  22|Subscriber|Female|2014-06-30 22:01:00|2014-06-30 22:29:00|              27.5|       68.0|tstorms|            199|Wabash Ave & Gran...|41.891738000000004|        -87.626937|            15.0|           69|Damen Ave & Pierc...|     41.9093960065|    -87.6776919292|          19.0|\n",
      "|2355092|2014|    6|  27|  0|  21|Subscriber|  Male|2014-06-30 21:55:00|2014-06-30 21:59:00|              4.15|       70.0|tstorms|            181|LaSalle St & Illi...|         41.890749|         -87.63206|            31.0|           51|Clark St & Randol...|      41.884576228|      -87.63188991|          31.0|\n",
      "|2355091|2014|    6|  27|  0|  21|Subscriber|  Male|2014-06-30 21:55:00|2014-06-30 22:01:00| 5.633333333333334|       70.0|tstorms|            289|Wells St & Concor...|         41.912202|        -87.634664|            19.0|          138|Clybourn Ave & Di...|41.904509000000004|          -87.6405|          15.0|\n",
      "+-------+----+-----+----+---+----+----------+------+-------------------+-------------------+------------------+-----------+-------+---------------+--------------------+------------------+------------------+----------------+-------------+--------------------+------------------+------------------+--------------+\n",
      "only showing top 20 rows\n",
      "\n"
     ]
    }
   ],
   "source": [
    "df.show()"
   ]
  },
  {
   "cell_type": "code",
   "execution_count": 6,
   "metadata": {},
   "outputs": [
    {
     "data": {
      "text/plain": [
       "9495235"
      ]
     },
     "execution_count": 6,
     "metadata": {},
     "output_type": "execute_result"
    }
   ],
   "source": [
    "df.count()"
   ]
  },
  {
   "cell_type": "code",
   "execution_count": 7,
   "metadata": {},
   "outputs": [],
   "source": [
    "df.createOrReplaceTempView(\"divvy\")"
   ]
  },
  {
   "cell_type": "markdown",
   "metadata": {},
   "source": [
    "## Data Mining Process"
   ]
  },
  {
   "cell_type": "markdown",
   "metadata": {},
   "source": [
    "### Dataset\n",
    "Dataset diambil dari https://www.kaggle.com/yingwurenjian/chicago-divvy-bicycle-sharing-data merupakan data Bicyle Sharing di Chicago. Dataset berformat .csv dengan ukurang +-2GB memiliki 23 kolom yaitu \n",
    "- trip_id (number)\n",
    "- year (number)\n",
    "- month (number)\n",
    "- week (number)\n",
    "- day (number)\n",
    "- hour (number : 0-24)\n",
    "- usertype (text : customer, subscriber)\n",
    "- gender (texr : male, female)\n",
    "- starttime (datetime)\n",
    "- stoptime (datetime)\n",
    "- tripduration (number in minutes)\n",
    "- temperature (number)\n",
    "- events (text : unknown, clear, cloudy, rain or snow, tstorms, not clear)\n",
    "- from_station_id (number)\n",
    "- from_station_name (text)\n",
    "- latitude_start (number)\n",
    "- longitude_start (number)\n",
    "- dpcapacity_start (number)\n",
    "- to_station_id (number)\n",
    "- to_station_name (text)\n",
    "- latitude_end (number)\n",
    "- longitude_end (number)\n",
    "- dpcapacity_end (number)"
   ]
  },
  {
   "cell_type": "code",
   "execution_count": 8,
   "metadata": {},
   "outputs": [],
   "source": [
    "# Daftar station yang paling banyak menjadi tujuan customer beserta kapasitas dock parkirnya\n",
    "query1 = spark.sql(\"SELECT to_station_id, to_station_name, dpcapacity_end, COUNT(to_station_name) \\\n",
    "                    FROM divvy \\\n",
    "                    GROUP BY to_station_id, to_station_name, dpcapacity_end \\\n",
    "                    ORDER BY COUNT(to_station_name) DESC\")"
   ]
  },
  {
   "cell_type": "code",
   "execution_count": 9,
   "metadata": {},
   "outputs": [
    {
     "name": "stdout",
     "output_type": "stream",
     "text": [
      "+-------------+--------------------+--------------+----------------------+\n",
      "|to_station_id|     to_station_name|dpcapacity_end|count(to_station_name)|\n",
      "+-------------+--------------------+--------------+----------------------+\n",
      "|           91|Clinton St & Wash...|          31.0|                161152|\n",
      "|           77|Clinton St & Madi...|          31.0|                102144|\n",
      "|          192| Canal St & Adams St|          47.0|                 79442|\n",
      "|           43|Michigan Ave & Wa...|          43.0|                 76968|\n",
      "|          287|Franklin St & Mon...|          27.0|                 63659|\n",
      "|          174|Canal St & Madiso...|          23.0|                 63509|\n",
      "|           74|Kingsbury St & Er...|          23.0|                 60969|\n",
      "|          133|Kingsbury St & Ki...|          27.0|                 60035|\n",
      "|          117|Wilton Ave & Belm...|          23.0|                 58660|\n",
      "|          289|Wells St & Concor...|          19.0|                 58628|\n",
      "|          177| Theater on the Lake|          23.0|                 58249|\n",
      "|           69|Damen Ave & Pierc...|          19.0|                 56857|\n",
      "|          268|Lake Shore Dr & N...|          39.0|                 56569|\n",
      "|          110|Dearborn St & Eri...|          23.0|                 56388|\n",
      "|          181|LaSalle St & Illi...|          31.0|                 56185|\n",
      "|           49|Dearborn St & Mon...|          27.0|                 55801|\n",
      "|          211|St. Clair St & Er...|          19.0|                 55493|\n",
      "|          140|Dearborn Pkwy & D...|          19.0|                 55312|\n",
      "|           52|Michigan Ave & La...|          31.0|                 54953|\n",
      "|           81|  Daley Center Plaza|          39.0|                 54433|\n",
      "+-------------+--------------------+--------------+----------------------+\n",
      "only showing top 20 rows\n",
      "\n"
     ]
    }
   ],
   "source": [
    "query1.show()"
   ]
  },
  {
   "cell_type": "code",
   "execution_count": 10,
   "metadata": {},
   "outputs": [],
   "source": [
    "# Daftar jumlah pengguna berdasarkan tipe pengguna dan gendernya beserta rata-rata durasi perjalanan\n",
    "query2 = spark.sql(\"SELECT usertype, gender, COUNT(usertype), AVG(tripduration) \\\n",
    "                    FROM divvy \\\n",
    "                    GROUP BY usertype, gender \\\n",
    "                    ORDER BY AVG(tripduration) DESC\")"
   ]
  },
  {
   "cell_type": "code",
   "execution_count": 11,
   "metadata": {
    "scrolled": true
   },
   "outputs": [
    {
     "name": "stdout",
     "output_type": "stream",
     "text": [
      "+----------+------+---------------+------------------+\n",
      "|  usertype|gender|count(usertype)| avg(tripduration)|\n",
      "+----------+------+---------------+------------------+\n",
      "|  Customer|Female|            194|21.541323024054982|\n",
      "|  Customer|  Male|           1083| 14.10594028931979|\n",
      "|Subscriber|Female|        2378481|12.779013790734535|\n",
      "| Dependent|  Male|            178|12.285205992509361|\n",
      "|Subscriber|  Male|        7115299| 11.00085300467806|\n",
      "+----------+------+---------------+------------------+\n",
      "\n"
     ]
    }
   ],
   "source": [
    "query2.show()"
   ]
  },
  {
   "cell_type": "code",
   "execution_count": 12,
   "metadata": {},
   "outputs": [],
   "source": [
    "# Daftar transaksi paling banyak berdasarkan tahun dan bulan\n",
    "query3 = spark.sql(\"SELECT year, month, COUNT(trip_id)  \\\n",
    "                    FROM divvy \\\n",
    "                    GROUP BY year, month \\\n",
    "                    ORDER by count(trip_id) DESC\")"
   ]
  },
  {
   "cell_type": "code",
   "execution_count": 13,
   "metadata": {},
   "outputs": [
    {
     "name": "stdout",
     "output_type": "stream",
     "text": [
      "+----+-----+--------------+\n",
      "|year|month|count(trip_id)|\n",
      "+----+-----+--------------+\n",
      "|2017|    8|        406964|\n",
      "|2017|    7|        381960|\n",
      "|2017|    6|        368841|\n",
      "|2017|    9|        365210|\n",
      "|2016|    8|        345086|\n",
      "|2016|    6|        344473|\n",
      "|2016|    7|        340516|\n",
      "|2015|    8|        324861|\n",
      "|2016|    9|        319003|\n",
      "|2015|    7|        311632|\n",
      "|2015|    9|        295226|\n",
      "|2017|   10|        291880|\n",
      "|2016|   10|        275132|\n",
      "|2017|    5|        260717|\n",
      "|2015|    6|        259727|\n",
      "|2016|    5|        256118|\n",
      "|2015|   10|        252321|\n",
      "|2014|    7|        245397|\n",
      "|2014|    8|        227792|\n",
      "|2014|    9|        210532|\n",
      "+----+-----+--------------+\n",
      "only showing top 20 rows\n",
      "\n"
     ]
    }
   ],
   "source": [
    "query3.show()"
   ]
  }
 ],
 "metadata": {
  "kernelspec": {
   "display_name": "Python 3",
   "language": "python",
   "name": "python3"
  },
  "language_info": {
   "codemirror_mode": {
    "name": "ipython",
    "version": 3
   },
   "file_extension": ".py",
   "mimetype": "text/x-python",
   "name": "python",
   "nbconvert_exporter": "python",
   "pygments_lexer": "ipython3",
   "version": "3.7.1"
  }
 },
 "nbformat": 4,
 "nbformat_minor": 2
}
