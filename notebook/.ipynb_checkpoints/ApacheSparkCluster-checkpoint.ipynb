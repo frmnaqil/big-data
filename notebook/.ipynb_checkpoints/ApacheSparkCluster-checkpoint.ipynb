{
 "cells": [
  {
   "cell_type": "markdown",
   "metadata": {},
   "source": [
    "## Spark Initialization"
   ]
  },
  {
   "cell_type": "code",
   "execution_count": 1,
   "metadata": {},
   "outputs": [],
   "source": [
    "# Import findspark to read SPARK_HOME and HADOOP_HOME\n",
    "import findspark\n",
    "findspark.init()"
   ]
  },
  {
   "cell_type": "code",
   "execution_count": 2,
   "metadata": {},
   "outputs": [],
   "source": [
    "# Import required library\n",
    "from pyspark.sql import SparkSession\n",
    "import numpy as np\n",
    "import matplotlib.pyplot as plt\n",
    "from pyspark.ml.clustering import KMeans\n",
    "from pyspark.ml.evaluation import ClusteringEvaluator\n",
    "from pyspark.ml.feature import VectorAssembler\n",
    "\n",
    "# Create Spark Session\n",
    "spark = SparkSession \\\n",
    "    .builder \\\n",
    "    .appName(\"Python Spark SQL basic example\") \\\n",
    "    .getOrCreate()"
   ]
  },
  {
   "cell_type": "code",
   "execution_count": 3,
   "metadata": {},
   "outputs": [
    {
     "name": "stdout",
     "output_type": "stream",
     "text": [
      "<pyspark.sql.session.SparkSession object at 0x00000220E6EC47B8>\n"
     ]
    }
   ],
   "source": [
    "# Print Spark object ID\n",
    "print(spark)"
   ]
  },
  {
   "cell_type": "markdown",
   "metadata": {},
   "source": [
    "## Loading Data using Spark"
   ]
  },
  {
   "cell_type": "code",
   "execution_count": 4,
   "metadata": {},
   "outputs": [],
   "source": [
    "df = spark.read.csv(\"data.csv\", header=True, inferSchema=True)"
   ]
  },
  {
   "cell_type": "code",
   "execution_count": 5,
   "metadata": {},
   "outputs": [
    {
     "data": {
      "text/plain": [
       "9495235"
      ]
     },
     "execution_count": 5,
     "metadata": {},
     "output_type": "execute_result"
    }
   ],
   "source": [
    "df.count()"
   ]
  },
  {
   "cell_type": "code",
   "execution_count": 6,
   "metadata": {},
   "outputs": [],
   "source": [
    "df.createOrReplaceTempView(\"divvy\")"
   ]
  },
  {
   "cell_type": "markdown",
   "metadata": {},
   "source": [
    "## Data Mining Process"
   ]
  },
  {
   "cell_type": "markdown",
   "metadata": {},
   "source": [
    "### Dataset\n",
    "Dataset diambil dari https://www.kaggle.com/yingwurenjian/chicago-divvy-bicycle-sharing-data merupakan data Bicyle Sharing di Chicago. Dataset berformat .csv dengan ukurang +-2GB memiliki 23 kolom yaitu \n",
    "- trip_id (number)\n",
    "- year (number)\n",
    "- month (number)\n",
    "- week (number)\n",
    "- day (number)\n",
    "- hour (number : 0-24)\n",
    "- usertype (text : customer, subscriber)\n",
    "- gender (texr : male, female)\n",
    "- starttime (datetime)\n",
    "- stoptime (datetime)\n",
    "- tripduration (number in minutes)\n",
    "- temperature (number)\n",
    "- events (text : unknown, clear, cloudy, rain or snow, tstorms, not clear)\n",
    "- from_station_id (number)\n",
    "- from_station_name (text)\n",
    "- latitude_start (number)\n",
    "- longitude_start (number)\n",
    "- dpcapacity_start (number)\n",
    "- to_station_id (number)\n",
    "- to_station_name (text)\n",
    "- latitude_end (number)\n",
    "- longitude_end (number)\n",
    "- dpcapacity_end (number)"
   ]
  },
  {
   "cell_type": "markdown",
   "metadata": {},
   "source": [
    "## Clustering Process\n",
    "### Select from_station_id, latitude_start, longitude_start\n",
    "\n",
    "Pada dataset ini akan dilakukan clustering koordinat station peminjaman sepeda yang terdekat sebanyak 5 cluster. Untuk itu, kita hanya akan menggunakan kolom tertentu diantaranya latitude, longitude, dan ID setiap station"
   ]
  },
  {
   "cell_type": "code",
   "execution_count": 20,
   "metadata": {},
   "outputs": [
    {
     "name": "stdout",
     "output_type": "stream",
     "text": [
      "DataFrame[from_station_id: int, latitude_start: double, longitude_start: double]\n",
      "+---------------+-----------------+------------------+\n",
      "|from_station_id|   latitude_start|   longitude_start|\n",
      "+---------------+-----------------+------------------+\n",
      "|            150|        41.838556|-87.60821800000001|\n",
      "|             22|       41.8694821|       -87.6554864|\n",
      "|            147|          41.8457|-87.62248000000001|\n",
      "|            488|        41.945636|        -87.727737|\n",
      "|            444|        41.844475|        -87.702013|\n",
      "|            429|   41.77372095205|      -87.60563486|\n",
      "|             69|    41.9093960065|    -87.6776919292|\n",
      "|            126|        41.911974|-87.63194200000002|\n",
      "|            503|        41.924399|        -87.715441|\n",
      "|            452|        41.994161|        -87.689438|\n",
      "|             26|        41.890359|        -87.617532|\n",
      "|            258|        41.930584|        -87.685126|\n",
      "|            245|        41.961004|        -87.649603|\n",
      "|            262|41.82705900000001|         -87.64572|\n",
      "|            397|   41.75874583706|-87.56011478129999|\n",
      "|            116|         41.91552|        -87.687022|\n",
      "|            298|        41.955927|        -87.679259|\n",
      "|            186|        41.891795|        -87.658751|\n",
      "|            194|        41.886875|         -87.62603|\n",
      "|            350|        41.895966|-87.66774699999998|\n",
      "+---------------+-----------------+------------------+\n",
      "only showing top 20 rows\n",
      "\n"
     ]
    },
    {
     "data": {
      "text/plain": [
       "1159"
      ]
     },
     "execution_count": 20,
     "metadata": {},
     "output_type": "execute_result"
    }
   ],
   "source": [
    "df_start = spark.sql(\"SELECT from_station_id, latitude_start, longitude_start FROM divvy GROUP BY from_station_id, latitude_start, longitude_start\")\n",
    "df_start.createOrReplaceTempView(\"start_grouped\")\n",
    "print(df_start)\n",
    "df_start.show()\n",
    "df_start.count()"
   ]
  },
  {
   "cell_type": "markdown",
   "metadata": {},
   "source": [
    "### Convert to vector\n",
    "Untuk melakukan K-means clustering menggunakan MLlib Apache Spark, diperlukan input berbentuk [vector ](https://spark.apache.org/docs/latest/ml-clustering.html). Oleh karena itu kolom latitude longitude akan dikonversi"
   ]
  },
  {
   "cell_type": "code",
   "execution_count": 21,
   "metadata": {},
   "outputs": [
    {
     "name": "stdout",
     "output_type": "stream",
     "text": [
      "+---------------+--------------------+\n",
      "|from_station_id|            features|\n",
      "+---------------+--------------------+\n",
      "|            150|[41.838556,-87.60...|\n",
      "|             22|[41.8694821,-87.6...|\n",
      "|            147|[41.8457,-87.6224...|\n",
      "|            488|[41.945636,-87.72...|\n",
      "|            444|[41.844475,-87.70...|\n",
      "|            429|[41.77372095205,-...|\n",
      "|             69|[41.9093960065,-8...|\n",
      "|            126|[41.911974,-87.63...|\n",
      "|            503|[41.924399,-87.71...|\n",
      "|            452|[41.994161,-87.68...|\n",
      "|             26|[41.890359,-87.61...|\n",
      "|            258|[41.930584,-87.68...|\n",
      "|            245|[41.961004,-87.64...|\n",
      "|            262|[41.8270590000000...|\n",
      "|            397|[41.75874583706,-...|\n",
      "|            116|[41.91552,-87.687...|\n",
      "|            298|[41.955927,-87.67...|\n",
      "|            186|[41.891795,-87.65...|\n",
      "|            194|[41.886875,-87.62...|\n",
      "|            350|[41.895966,-87.66...|\n",
      "+---------------+--------------------+\n",
      "only showing top 20 rows\n",
      "\n"
     ]
    },
    {
     "data": {
      "text/plain": [
       "1159"
      ]
     },
     "execution_count": 21,
     "metadata": {},
     "output_type": "execute_result"
    }
   ],
   "source": [
    "# Convert features column to vector datatype for kmeans\n",
    "vector_assembler = VectorAssembler(inputCols=[\"latitude_start\",\"longitude_start\"],outputCol=\"features\")\n",
    "df_kmeans = vector_assembler.transform(df_start).select('from_station_id','features')\n",
    "df_kmeans.show()\n",
    "df_kmeans.count()"
   ]
  },
  {
   "cell_type": "markdown",
   "metadata": {},
   "source": [
    "### Build and train model"
   ]
  },
  {
   "cell_type": "code",
   "execution_count": 22,
   "metadata": {},
   "outputs": [],
   "source": [
    "k = 5\n",
    "kmeans = KMeans().setK(k).setSeed(1).setFeaturesCol(\"features\")\n",
    "model = kmeans.fit(df_kmeans)\n",
    "centers = model.clusterCenters()"
   ]
  },
  {
   "cell_type": "code",
   "execution_count": 23,
   "metadata": {},
   "outputs": [
    {
     "name": "stdout",
     "output_type": "stream",
     "text": [
      "Cluster Centers: \n",
      "[ 41.89405162 -87.64198475]\n",
      "[ 41.89490332 -87.71720014]\n",
      "[ 41.77595609 -87.59624597]\n",
      "[ 41.97444733 -87.68010028]\n",
      "[ 41.83079899 -87.64384576]\n"
     ]
    }
   ],
   "source": [
    "print(\"Cluster Centers: \")\n",
    "for center in centers:\n",
    "    print(center)"
   ]
  },
  {
   "cell_type": "markdown",
   "metadata": {},
   "source": [
    "### Assign data to cluster\n",
    "Saat centroid sudah ditentukan, tentukan prediksi station terdekat untuk menjadi member dari cluster"
   ]
  },
  {
   "cell_type": "code",
   "execution_count": 24,
   "metadata": {},
   "outputs": [
    {
     "name": "stdout",
     "output_type": "stream",
     "text": [
      "[Row(from_station_id=150, prediction=4), Row(from_station_id=22, prediction=0), Row(from_station_id=147, prediction=4)]\n"
     ]
    }
   ],
   "source": [
    "transformed = model.transform(df_kmeans).select('from_station_id', 'prediction')\n",
    "rows = transformed.collect()\n",
    "print(rows[:3])"
   ]
  },
  {
   "cell_type": "code",
   "execution_count": 25,
   "metadata": {},
   "outputs": [
    {
     "name": "stdout",
     "output_type": "stream",
     "text": [
      "+---------------+----------+\n",
      "|from_station_id|prediction|\n",
      "+---------------+----------+\n",
      "|            150|         4|\n",
      "|             22|         0|\n",
      "|            147|         4|\n",
      "|            488|         1|\n",
      "|            444|         1|\n",
      "|            429|         2|\n",
      "|             69|         0|\n",
      "|            126|         0|\n",
      "|            503|         1|\n",
      "|            452|         3|\n",
      "|             26|         0|\n",
      "|            258|         3|\n",
      "|            245|         3|\n",
      "|            262|         4|\n",
      "|            397|         2|\n",
      "|            116|         1|\n",
      "|            298|         3|\n",
      "|            186|         0|\n",
      "|            194|         0|\n",
      "|            350|         0|\n",
      "+---------------+----------+\n",
      "only showing top 20 rows\n",
      "\n"
     ]
    },
    {
     "data": {
      "text/plain": [
       "1159"
      ]
     },
     "execution_count": 25,
     "metadata": {},
     "output_type": "execute_result"
    }
   ],
   "source": [
    "df_kmeans_pred = spark.createDataFrame(rows)\n",
    "df_kmeans_pred.show()\n",
    "df_kmeans_pred.count()"
   ]
  },
  {
   "cell_type": "markdown",
   "metadata": {},
   "source": [
    "### Join prediction with original dataframe"
   ]
  },
  {
   "cell_type": "code",
   "execution_count": 26,
   "metadata": {},
   "outputs": [
    {
     "name": "stdout",
     "output_type": "stream",
     "text": [
      "+---------------+----------+------------------+------------------+\n",
      "|from_station_id|prediction|    latitude_start|   longitude_start|\n",
      "+---------------+----------+------------------+------------------+\n",
      "|             26|         0|         41.890359|        -87.617532|\n",
      "|             26|         0| 41.89102000000001|          -87.6173|\n",
      "|             26|         0|41.891020000000005|          -87.6173|\n",
      "|             26|         0|         41.890359|        -87.617532|\n",
      "|             26|         0| 41.89102000000001|          -87.6173|\n",
      "|             26|         0|41.891020000000005|          -87.6173|\n",
      "|             26|         0|         41.890359|        -87.617532|\n",
      "|             26|         0| 41.89102000000001|          -87.6173|\n",
      "|             26|         0|41.891020000000005|          -87.6173|\n",
      "|             29|         0|          41.90068|          -87.6626|\n",
      "|            474|         3|       41.96835449|      -87.71183067|\n",
      "|            474|         3|    41.96835449363|    -87.7118306675|\n",
      "|            474|         3|         41.968354|        -87.711831|\n",
      "|            474|         3|       41.96835449|      -87.71183067|\n",
      "|            474|         3|    41.96835449363|    -87.7118306675|\n",
      "|            474|         3|         41.968354|        -87.711831|\n",
      "|            474|         3|       41.96835449|      -87.71183067|\n",
      "|            474|         3|    41.96835449363|    -87.7118306675|\n",
      "|            474|         3|         41.968354|        -87.711831|\n",
      "|            191|         0|           41.8807|-87.63946999999997|\n",
      "+---------------+----------+------------------+------------------+\n",
      "only showing top 20 rows\n",
      "\n"
     ]
    },
    {
     "data": {
      "text/plain": [
       "2807"
      ]
     },
     "execution_count": 26,
     "metadata": {},
     "output_type": "execute_result"
    }
   ],
   "source": [
    "df_start_pred = df_kmeans_pred.join(df_start,'from_station_id')\n",
    "df_start_pred.show()\n",
    "df_start_pred.count()"
   ]
  },
  {
   "cell_type": "markdown",
   "metadata": {},
   "source": [
    "### Convert dataframe to pandas for visualization"
   ]
  },
  {
   "cell_type": "code",
   "execution_count": 41,
   "metadata": {},
   "outputs": [
    {
     "data": {
      "text/html": [
       "<div>\n",
       "<style scoped>\n",
       "    .dataframe tbody tr th:only-of-type {\n",
       "        vertical-align: middle;\n",
       "    }\n",
       "\n",
       "    .dataframe tbody tr th {\n",
       "        vertical-align: top;\n",
       "    }\n",
       "\n",
       "    .dataframe thead th {\n",
       "        text-align: right;\n",
       "    }\n",
       "</style>\n",
       "<table border=\"1\" class=\"dataframe\">\n",
       "  <thead>\n",
       "    <tr style=\"text-align: right;\">\n",
       "      <th></th>\n",
       "      <th>prediction</th>\n",
       "      <th>latitude_start</th>\n",
       "      <th>longitude_start</th>\n",
       "    </tr>\n",
       "    <tr>\n",
       "      <th>from_station_id</th>\n",
       "      <th></th>\n",
       "      <th></th>\n",
       "      <th></th>\n",
       "    </tr>\n",
       "  </thead>\n",
       "  <tbody>\n",
       "    <tr>\n",
       "      <th>26</th>\n",
       "      <td>0</td>\n",
       "      <td>41.890359</td>\n",
       "      <td>-87.617532</td>\n",
       "    </tr>\n",
       "    <tr>\n",
       "      <th>26</th>\n",
       "      <td>0</td>\n",
       "      <td>41.891020</td>\n",
       "      <td>-87.617300</td>\n",
       "    </tr>\n",
       "    <tr>\n",
       "      <th>26</th>\n",
       "      <td>0</td>\n",
       "      <td>41.891020</td>\n",
       "      <td>-87.617300</td>\n",
       "    </tr>\n",
       "    <tr>\n",
       "      <th>26</th>\n",
       "      <td>0</td>\n",
       "      <td>41.890359</td>\n",
       "      <td>-87.617532</td>\n",
       "    </tr>\n",
       "    <tr>\n",
       "      <th>26</th>\n",
       "      <td>0</td>\n",
       "      <td>41.891020</td>\n",
       "      <td>-87.617300</td>\n",
       "    </tr>\n",
       "  </tbody>\n",
       "</table>\n",
       "</div>"
      ],
      "text/plain": [
       "                 prediction  latitude_start  longitude_start\n",
       "from_station_id                                             \n",
       "26                        0       41.890359       -87.617532\n",
       "26                        0       41.891020       -87.617300\n",
       "26                        0       41.891020       -87.617300\n",
       "26                        0       41.890359       -87.617532\n",
       "26                        0       41.891020       -87.617300"
      ]
     },
     "execution_count": 41,
     "metadata": {},
     "output_type": "execute_result"
    }
   ],
   "source": [
    "pd_df_pred = df_start_pred.toPandas().set_index(\"from_station_id\")\n",
    "pd_df_pred.head()"
   ]
  },
  {
   "cell_type": "markdown",
   "metadata": {},
   "source": [
    "### Plain Visualization"
   ]
  },
  {
   "cell_type": "code",
   "execution_count": 35,
   "metadata": {},
   "outputs": [
    {
     "data": {
      "text/plain": [
       "<function matplotlib.pyplot.show(*args, **kw)>"
      ]
     },
     "execution_count": 35,
     "metadata": {},
     "output_type": "execute_result"
    },
    {
     "data": {
      "image/png": "[encoded data removed]",
      "text/plain": [
       "<Figure size 432x288 with 1 Axes>"
      ]
     },
     "metadata": {
      "needs_background": "light"
     },
     "output_type": "display_data"
    }
   ],
   "source": [
    "pd_df_pred.plot(kind=\"scatter\", x=\"longitude_start\", y=\"latitude_start\", alpha=0.4)\n",
    "plt.show"
   ]
  },
  {
   "cell_type": "markdown",
   "metadata": {},
   "source": [
    "### Clustered Visualization"
   ]
  },
  {
   "cell_type": "code",
   "execution_count": 39,
   "metadata": {},
   "outputs": [
    {
     "data": {
      "text/plain": [
       "<matplotlib.colorbar.Colorbar at 0x220e983b6d8>"
      ]
     },
     "execution_count": 39,
     "metadata": {},
     "output_type": "execute_result"
    },
    {
     "data": {
      "image/png": "[encoded data removed]",
      "text/plain": [
       "<Figure size 432x288 with 2 Axes>"
      ]
     },
     "metadata": {
      "needs_background": "light"
     },
     "output_type": "display_data"
    }
   ],
   "source": [
    "fig = plt.figure()\n",
    "ax = fig.add_subplot(111)\n",
    "scatter = ax.scatter(pd_df_pred.longitude_start, pd_df_pred.latitude_start, c=pd_df_pred.prediction, s=50)\n",
    "ax.set_title('K-Means Clustering')\n",
    "ax.set_xlabel('Longitude')\n",
    "ax.set_ylabel('Latitude')\n",
    "plt.colorbar(scatter)"
   ]
  }
 ],
 "metadata": {
  "kernelspec": {
   "display_name": "Python 3",
   "language": "python",
   "name": "python3"
  },
  "language_info": {
   "codemirror_mode": {
    "name": "ipython",
    "version": 3
   },
   "file_extension": ".py",
   "mimetype": "text/x-python",
   "name": "python",
   "nbconvert_exporter": "python",
   "pygments_lexer": "ipython3",
   "version": "3.7.1"
  }
 },
 "nbformat": 4,
 "nbformat_minor": 2
}
